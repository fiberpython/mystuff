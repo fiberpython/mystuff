{
 "cells": [
  {
   "cell_type": "code",
   "execution_count": 41,
   "metadata": {},
   "outputs": [
    {
     "name": "stdout",
     "output_type": "stream",
     "text": [
      "3\n"
     ]
    }
   ],
   "source": [
    "N = int(raw_input())\n"
   ]
  },
  {
   "cell_type": "code",
   "execution_count": 42,
   "metadata": {},
   "outputs": [
    {
     "name": "stdout",
     "output_type": "stream",
     "text": [
      "Weird\n"
     ]
    }
   ],
   "source": [
    "if (N % 2 == 0): \n",
    "    if (N <= 5) and (N >=2):\n",
    "        print (\"not Weird\")\n",
    "    else:    \n",
    "        if (N>=6) and (N<=20):\n",
    "            print (\"Weird\")\n",
    "        else:\n",
    "            if (N>20):\n",
    "                print(\"Not Weird\")\n",
    "else:\n",
    "    print (\"Weird\")"
   ]
  },
  {
   "cell_type": "code",
   "execution_count": 43,
   "metadata": {},
   "outputs": [
    {
     "name": "stdout",
     "output_type": "stream",
     "text": [
      "3\n",
      "2\n",
      "5\n",
      "1\n",
      "6\n"
     ]
    }
   ],
   "source": [
    "if __name__ == '__main__':\n",
    "    a = int(raw_input())\n",
    "    b = int(raw_input())\n",
    "    \n",
    "print \"%d\" % (a + b)\n",
    "print \"%d\" % (a - b)\n",
    "print \"%d\" % (a * b)"
   ]
  },
  {
   "cell_type": "code",
   "execution_count": 44,
   "metadata": {},
   "outputs": [
    {
     "data": {
      "text/plain": [
       "10000000000"
      ]
     },
     "execution_count": 44,
     "metadata": {},
     "output_type": "execute_result"
    }
   ],
   "source": [
    "10*10*10*10*10*10*10*10*10*10\n"
   ]
  },
  {
   "cell_type": "code",
   "execution_count": 46,
   "metadata": {},
   "outputs": [
    {
     "name": "stdout",
     "output_type": "stream",
     "text": [
      "4\n",
      "3\n",
      "1\n",
      "1.000000\n"
     ]
    }
   ],
   "source": [
    "if __name__ == '__main__':\n",
    "    a = int(raw_input())\n",
    "    b = int(raw_input())\n",
    "    \n",
    "print \"%d\" % (a // b)\n",
    "print \"%f\" % (a / b)\n"
   ]
  },
  {
   "cell_type": "code",
   "execution_count": 49,
   "metadata": {},
   "outputs": [
    {
     "name": "stdout",
     "output_type": "stream",
     "text": [
      "5\n",
      "0\n",
      "1\n",
      "4\n",
      "9\n",
      "16\n"
     ]
    }
   ],
   "source": [
    " n = int(raw_input())\n",
    "for i in range(n):\n",
    "    print (\"%d\") % (i*i)"
   ]
  },
  {
   "cell_type": "code",
   "execution_count": 2,
   "metadata": {},
   "outputs": [
    {
     "name": "stdout",
     "output_type": "stream",
     "text": [
      "1\n",
      "2\n",
      "Fizz\n",
      "4\n",
      "Buzz\n",
      "Fizz\n",
      "7\n",
      "8\n",
      "Fizz\n",
      "Buzz\n",
      "11\n",
      "Fizz\n",
      "13\n",
      "14\n",
      "FizeBuzz\n",
      "16\n",
      "17\n"
     ]
    }
   ],
   "source": [
    "#Fiz BuZZ\n",
    "\n",
    "for num in xrange(1,18):\n",
    "    if num % 5 == 0 and num % 3 == 0:\n",
    "        print \"FizeBuzz\"\n",
    "    elif num % 3 == 0:\n",
    "        print \"Fizz\"\n",
    "    elif num % 5 == 0:\n",
    "        print \"Buzz\"\n",
    "    else:\n",
    "        print num"
   ]
  },
  {
   "cell_type": "code",
   "execution_count": 4,
   "metadata": {},
   "outputs": [
    {
     "name": "stdout",
     "output_type": "stream",
     "text": [
      "0\n",
      "1\n",
      "1\n",
      "2\n",
      "3\n",
      "5\n",
      "8\n",
      "13\n",
      "21\n",
      "34\n"
     ]
    }
   ],
   "source": [
    "a1,b1 = 0,1  # a unique assignment \n",
    "for i1 in xrange(0,10):\n",
    "    print a1\n",
    "    a1,b1 = b1, a1 + b1\n"
   ]
  },
  {
   "cell_type": "code",
   "execution_count": 10,
   "metadata": {},
   "outputs": [
    {
     "name": "stdout",
     "output_type": "stream",
     "text": [
      "10\n",
      "20\n",
      "30\n",
      "40\n",
      "50\n",
      "1\n",
      "2\n",
      "3\n",
      "4\n",
      "5\n",
      "6\n",
      "7\n",
      "8\n",
      "9\n",
      "10\n",
      "My age is 2\n",
      "My name is Bronx\n",
      "My occupation is Coreys's Dog\n",
      "40\n",
      "10\n",
      "20\n",
      "50\n",
      "30\n"
     ]
    }
   ],
   "source": [
    "#Lists\n",
    "my_list = [10,20,30,40,50]\n",
    "for i in my_list:\n",
    "    print i\n",
    "\n",
    "#Tuples\n",
    "my_tup = (1,2,3,4,5,6,7,8,9,10)\n",
    "for i in my_tup:\n",
    "    print i\n",
    "\n",
    "#Dict\n",
    "# Notices the String at the end of this list\n",
    "my_dict = {'name':'Bronx', 'age':'2', 'occupation':\"Coreys's Dog\"}\n",
    "for key,val in my_dict.iteritems():\n",
    "    print \"My {} is {}\".format(key,val)\n",
    "    \n",
    "#SET\n",
    "# this just means that there are no repeated values\n",
    "my_set = {10,20,30,40,50,10,20,30,40,50}\n",
    "for i in my_set:\n",
    "    print i\n",
    "\n"
   ]
  },
  {
   "cell_type": "code",
   "execution_count": 8,
   "metadata": {},
   "outputs": [
    {
     "name": "stdout",
     "output_type": "stream",
     "text": [
      "1\n",
      "2\n",
      "3\n",
      "4\n",
      "5\n",
      "6\n",
      "7\n",
      "8\n",
      "9\n",
      "10\n"
     ]
    }
   ],
   "source": [
    "for k in xrange(1,10+1):\n",
    "    print k\n"
   ]
  },
  {
   "cell_type": "code",
   "execution_count": 11,
   "metadata": {},
   "outputs": [
    {
     "name": "stdout",
     "output_type": "stream",
     "text": [
      "[1, 4, 9, 16, 25, 36, 49, 64, 81, 100]\n"
     ]
    }
   ],
   "source": [
    "# List Comprehentions\n",
    "\n",
    "mylist= [1,2,3,4,5,6,7,8,9,10]\n",
    "squares = [num * num for num in mylist]\n",
    "print squares"
   ]
  },
  {
   "cell_type": "code",
   "execution_count": 12,
   "metadata": {},
   "outputs": [
    {
     "name": "stdout",
     "output_type": "stream",
     "text": [
      "1: 0\n",
      "2: 1\n",
      "3: 1\n",
      "4: 2\n",
      "5: 3\n",
      "6: 5\n",
      "7: 8\n",
      "8: 13\n",
      "9: 21\n",
      "10: 34\n"
     ]
    }
   ],
   "source": [
    "# What is a generator\n",
    "# when to use Generators\n",
    "\n",
    "def fib(num):\n",
    "    a,b = 0,1\n",
    "    for i in xrange(0,num):\n",
    "        yield \"{}: {}\".format(i+1, a)\n",
    "        a,b = b, a + b\n",
    "        \n",
    "for item in fib(10):\n",
    "    print item\n",
    "    \n",
    "    \n",
    "# But what's the difference between range and xrange\n",
    "# Range puts all of the values into memory at once where\n",
    "# xrange only puts one valuse at a time \n"
   ]
  },
  {
   "cell_type": "code",
   "execution_count": 9,
   "metadata": {},
   "outputs": [
    {
     "name": "stdout",
     "output_type": "stream",
     "text": [
      "please enter 400: 4\n",
      "True\n"
     ]
    }
   ],
   "source": [
    "def is_leap(year):\n",
    "    leap = False\n",
    "    \n",
    "    if year % 4 == 0 or year % 400 == 0:\n",
    "        leap = True\n",
    "    \n",
    "        if year % 100 == 0:\n",
    "            leap = False\n",
    "            if year % 400 == 0:\n",
    "                leap = True\n",
    "\n",
    "    return leap\n",
    "\n",
    "year = int(raw_input(\"please enter 400: \"))\n",
    "print is_leap(year)\n",
    "\n",
    "\n"
   ]
  },
  {
   "cell_type": "markdown",
   "metadata": {},
   "source": []
  },
  {
   "cell_type": "code",
   "execution_count": 2,
   "metadata": {},
   "outputs": [
    {
     "name": "stdout",
     "output_type": "stream",
     "text": [
      "Input: 3\n",
      "3\n",
      "123\n"
     ]
    }
   ],
   "source": [
    "    n = int(raw_input(\"Input: \"))\n",
    "    \n",
    "    print(\"%d\" % n)\n",
    "\n",
    "    s = \"\"\n",
    "    for i in range(1,n+1):\n",
    "        s+=str(i)\n",
    "    \n",
    "    print s\n"
   ]
  },
  {
   "cell_type": "code",
   "execution_count": 23,
   "metadata": {},
   "outputs": [
    {
     "name": "stdout",
     "output_type": "stream",
     "text": [
      "['apple', 'banana', 'cherry']\n",
      "['apple', 'banana', 'cherry', 1, 4, 5, 9]\n",
      "(1, 4, 5, 9)\n"
     ]
    }
   ],
   "source": [
    "fruits = ['apple', 'banana', 'cherry']\n",
    "print fruits\n",
    "\n",
    "points = (1, 4, 5, 9)\n",
    "\n",
    "fruits.extend(points)\n",
    "\n",
    "print fruits\n",
    "print points\n",
    "\n"
   ]
  },
  {
   "cell_type": "code",
   "execution_count": 1,
   "metadata": {},
   "outputs": [
    {
     "data": {
      "text/plain": [
       "{1, 2, 3}"
      ]
     },
     "execution_count": 1,
     "metadata": {},
     "output_type": "execute_result"
    }
   ],
   "source": [
    "{x for x in (1,2,3)}"
   ]
  },
  {
   "cell_type": "code",
   "execution_count": 1,
   "metadata": {},
   "outputs": [
    {
     "name": "stdout",
     "output_type": "stream",
     "text": [
      "The Zen of Python, by Tim Peters\n",
      "\n",
      "Beautiful is better than ugly.\n",
      "Explicit is better than implicit.\n",
      "Simple is better than complex.\n",
      "Complex is better than complicated.\n",
      "Flat is better than nested.\n",
      "Sparse is better than dense.\n",
      "Readability counts.\n",
      "Special cases aren't special enough to break the rules.\n",
      "Although practicality beats purity.\n",
      "Errors should never pass silently.\n",
      "Unless explicitly silenced.\n",
      "In the face of ambiguity, refuse the temptation to guess.\n",
      "There should be one-- and preferably only one --obvious way to do it.\n",
      "Although that way may not be obvious at first unless you're Dutch.\n",
      "Now is better than never.\n",
      "Although never is often better than *right* now.\n",
      "If the implementation is hard to explain, it's a bad idea.\n",
      "If the implementation is easy to explain, it may be a good idea.\n",
      "Namespaces are one honking great idea -- let's do more of those!\n"
     ]
    }
   ],
   "source": [
    "import this\n"
   ]
  },
  {
   "cell_type": "code",
   "execution_count": 3,
   "metadata": {},
   "outputs": [
    {
     "name": "stdout",
     "output_type": "stream",
     "text": [
      "[0, 1, 2, 3, 4, 5, 6, 7, 8, 9]\n"
     ]
    }
   ],
   "source": [
    "print(list(range(10)))"
   ]
  },
  {
   "cell_type": "code",
   "execution_count": 3,
   "metadata": {},
   "outputs": [
    {
     "name": "stdout",
     "output_type": "stream",
     "text": [
      "[0, 2, 4, 6, 8, 10]\n"
     ]
    }
   ],
   "source": [
    "print range(0,11,2)"
   ]
  },
  {
   "cell_type": "code",
   "execution_count": 10,
   "metadata": {},
   "outputs": [],
   "source": [
    "p = [[1,2,3,4],[5,6],[7,8,9,11]]\n"
   ]
  },
  {
   "cell_type": "code",
   "execution_count": 29,
   "metadata": {},
   "outputs": [
    {
     "name": "stdout",
     "output_type": "stream",
     "text": [
      "11\n",
      "5\n"
     ]
    }
   ],
   "source": [
    "print p[2][3]\n",
    "print p[1][0]"
   ]
  },
  {
   "cell_type": "code",
   "execution_count": 37,
   "metadata": {},
   "outputs": [
    {
     "name": "stdout",
     "output_type": "stream",
     "text": [
      "The value of s is 6.000000e+01\n"
     ]
    }
   ],
   "source": [
    "a = [[1, 2, 3, 4], [5, 6], [7, 8, 9], [2, 5, 8]]\n",
    "s = 0\n",
    "for i in range(len(a)):\n",
    "    for j in range(len(a[i])):\n",
    "        s += a[i][j]\n",
    "print(\"The value of s is %e\" % s)\n",
    "\n",
    "# 1+2+3+4+5+6+7+8+9+2+5+8 = 60 \n",
    "#  and\n",
    "# 1+2+3+4+5+6+7+8+9 = 45\n",
    "# range(len(a)) is just counting the things in side of a but in the case of a[x][y]\n",
    "# range(len(a[i])) is now counting the elements inside a[]  list.\n"
   ]
  },
  {
   "cell_type": "code",
   "execution_count": 38,
   "metadata": {},
   "outputs": [
    {
     "data": {
      "text/plain": [
       "[0, 1, 2, 3]"
      ]
     },
     "execution_count": 38,
     "metadata": {},
     "output_type": "execute_result"
    }
   ],
   "source": [
    "range(len(a))"
   ]
  },
  {
   "cell_type": "code",
   "execution_count": 32,
   "metadata": {},
   "outputs": [
    {
     "name": "stdout",
     "output_type": "stream",
     "text": [
      " s is 45\n"
     ]
    }
   ],
   "source": [
    "w = [[1, 2, 3, 4], [5, 6], [7, 8, 9]]\n",
    "s = 0\n",
    "for row in w:\n",
    "    for elem in row:\n",
    "        s += elem\n",
    "print(\" s is %d\" % s)"
   ]
  },
  {
   "cell_type": "code",
   "execution_count": 50,
   "metadata": {},
   "outputs": [
    {
     "name": "stdout",
     "output_type": "stream",
     "text": [
      "[[0, 0, 0, 0], [0, 0, 0, 0], [0, 0, 0, 0]]\n",
      "5\n",
      "[[5, 2, 0, 7], [5, 2, 0, 7], [5, 2, 0, 7]]\n"
     ]
    }
   ],
   "source": [
    "# This can be easily seen if you set the value of a[0][0] to 5, \n",
    "# and then print the value of a[1][0] — it will also be equal to 5. The \n",
    "# reason is, [0] * m returns just a reference to a list of m zeros, \n",
    "# but not a list. The subsequent repeating of this element creates a list \n",
    "# of n items that all reference to the same list \n",
    "# (just as well as the operation b = a for lists does not create the new list), so all rows in \n",
    "# the resulting list are actually the same string. \n",
    "\n",
    "n = 3\n",
    "m = 4\n",
    "f = [[0] * m] * n\n",
    "print(f)\n",
    "f[0][0] = 5\n",
    "f[0][1] = 2\n",
    "f[0][3] = 7\n",
    "\n",
    "# Stubing this one out\n",
    "\n",
    "print(f[1][0])  \n",
    "print(f)\n",
    "\n",
    "\n",
    "\n"
   ]
  },
  {
   "cell_type": "code",
   "execution_count": 47,
   "metadata": {},
   "outputs": [],
   "source": [
    "ar = [[1,2] * m] * n"
   ]
  },
  {
   "cell_type": "code",
   "execution_count": 48,
   "metadata": {},
   "outputs": [
    {
     "data": {
      "text/plain": [
       "[[1, 2, 1, 2, 1, 2, 1, 2], [1, 2, 1, 2, 1, 2, 1, 2], [1, 2, 1, 2, 1, 2, 1, 2]]"
      ]
     },
     "execution_count": 48,
     "metadata": {},
     "output_type": "execute_result"
    }
   ],
   "source": [
    "ar\n"
   ]
  },
  {
   "cell_type": "code",
   "execution_count": 57,
   "metadata": {},
   "outputs": [
    {
     "name": "stdout",
     "output_type": "stream",
     "text": [
      "[[0, 0, 0, 0], [0, 0, 0, 0], [0, 0, 0, 0]]\n",
      "[[2, 3, 2, 3, 2, 3, 2, 3], [2, 3, 2, 3, 2, 3, 2, 3], [2, 3, 2, 3, 2, 3, 2, 3]]\n"
     ]
    }
   ],
   "source": [
    "n = 3\n",
    "m = 4\n",
    "a = [0] * n\n",
    "ej = [0] * n\n",
    "\n",
    "for i in range(n):\n",
    "    a[i] = [0] * m\n",
    "    ej[i] = [2,3] * m\n",
    "print(a)\n",
    "print(ej)\n",
    "    "
   ]
  },
  {
   "cell_type": "code",
   "execution_count": null,
   "metadata": {},
   "outputs": [],
   "source": [
    "n = 3\n",
    "m = 4\n",
    "a = [[0] * m for i in range(n)]\n",
    "print(a)"
   ]
  },
  {
   "cell_type": "code",
   "execution_count": null,
   "metadata": {},
   "outputs": [],
   "source": [
    "# the first line of input is the number of rows of the array\n",
    "n = int(input()) \n",
    "a = []\n",
    "for i in range(n):\n",
    "    a.append([int(j) for j in input().split()])\n",
    "    "
   ]
  },
  {
   "cell_type": "code",
   "execution_count": null,
   "metadata": {},
   "outputs": [],
   "source": []
  }
 ],
 "metadata": {
  "kernelspec": {
   "display_name": "Python 2",
   "language": "python",
   "name": "python2"
  },
  "language_info": {
   "codemirror_mode": {
    "name": "ipython",
    "version": 2
   },
   "file_extension": ".py",
   "mimetype": "text/x-python",
   "name": "python",
   "nbconvert_exporter": "python",
   "pygments_lexer": "ipython2",
   "version": "2.7.15"
  }
 },
 "nbformat": 4,
 "nbformat_minor": 2
}
