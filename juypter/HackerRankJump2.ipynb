{
 "cells": [
  {
   "cell_type": "code",
   "execution_count": 5,
   "metadata": {},
   "outputs": [],
   "source": [
    "a=5"
   ]
  },
  {
   "cell_type": "code",
   "execution_count": 6,
   "metadata": {},
   "outputs": [
    {
     "data": {
      "text/plain": [
       "5"
      ]
     },
     "execution_count": 6,
     "metadata": {},
     "output_type": "execute_result"
    }
   ],
   "source": [
    "a"
   ]
  },
  {
   "cell_type": "code",
   "execution_count": 7,
   "metadata": {},
   "outputs": [
    {
     "name": "stdout",
     "output_type": "stream",
     "text": [
      "1\n",
      "2\n",
      "3\n",
      "4\n",
      "5\n"
     ]
    }
   ],
   "source": [
    "for x in range(a):\n",
    "    print x+1"
   ]
  },
  {
   "cell_type": "code",
   "execution_count": 25,
   "metadata": {},
   "outputs": [
    {
     "name": "stdout",
     "output_type": "stream",
     "text": [
      "['I', 'speak', 'Goat', 'Latin', 'you', 'islen', 'docker']\n",
      "Imaa\n",
      "\n",
      "speakmaaa\n",
      "\n",
      "Goatmaaaa\n",
      "\n",
      "Latinmaaaaa\n",
      "\n",
      "ouymaaaaaa\n",
      "\n",
      "slenimaaaaaaa\n",
      "\n",
      "dockermaaaaaaaa\n",
      "\n"
     ]
    }
   ],
   "source": [
    "def string_to_goat_latin(locstg): \n",
    "    vowel = (\"aeiouyAEIOUY\")\n",
    "    const = (\"bcdfghjklmnpqrstvwxzBCDFGHJKLMNPQRSTVWXZ\")\n",
    "    new = \"\"\n",
    "             \n",
    "    arrlist = locstg.split(\" \")\n",
    "    print \"%s\" % arrlist\n",
    "             \n",
    "    k=0         \n",
    "    for x in arrlist:\n",
    "        #print k\n",
    "        k = k + 1\n",
    "        #print x\n",
    "        #print x[:1]\n",
    "        if x[:1] in vowel:\n",
    "            new = x[1:] + x[:1] + \"ma\" + k * \"a\" \n",
    "            print \"%s\\n\" % new\n",
    "        if x[:1] in const:\n",
    "            new = x + \"ma\" + k * \"a\"\n",
    "            print \"%s\\n\" % new\n",
    "                     \n",
    "             \n",
    "    \n",
    "string_to_goat_latin('I speak Goat Latin you islen docker')\n",
    "\n",
    " \n",
    " "
   ]
  },
  {
   "cell_type": "code",
   "execution_count": 40,
   "metadata": {},
   "outputs": [
    {
     "name": "stdout",
     "output_type": "stream",
     "text": [
      "Input: 3\n",
      "1 2 3\n"
     ]
    }
   ],
   "source": [
    "from __future__ import print_function\n",
    "\n",
    "if __name__ == '__main__':\n",
    "    n = int(raw_input(\"Input: \"))\n",
    "     \n",
    "\n",
    "#for i in range(1,n+1): \n",
    "#    print (\"%d\" % i, end=''),\n",
    "        \n",
    "    "
   ]
  },
  {
   "cell_type": "code",
   "execution_count": 8,
   "metadata": {},
   "outputs": [
    {
     "name": "stdout",
     "output_type": "stream",
     "text": [
      "1  \n",
      "2  \n",
      "3  \n",
      "4  \n",
      "5  \n"
     ]
    }
   ],
   "source": []
  },
  {
   "cell_type": "code",
   "execution_count": 32,
   "metadata": {},
   "outputs": [
    {
     "name": "stdout",
     "output_type": "stream",
     "text": [
      "0123456789"
     ]
    }
   ],
   "source": [
    "from __future__ import print_function\n",
    "for x in xrange(10):\n",
    "    print('%d' % x , end='')\n"
   ]
  },
  {
   "cell_type": "code",
   "execution_count": 37,
   "metadata": {},
   "outputs": [
    {
     "ename": "SyntaxError",
     "evalue": "invalid syntax (<ipython-input-37-b944dd88e67c>, line 3)",
     "output_type": "error",
     "traceback": [
      "\u001b[0;36m  File \u001b[0;32m\"<ipython-input-37-b944dd88e67c>\"\u001b[0;36m, line \u001b[0;32m3\u001b[0m\n\u001b[0;31m    print o,\u001b[0m\n\u001b[0m          ^\u001b[0m\n\u001b[0;31mSyntaxError\u001b[0m\u001b[0;31m:\u001b[0m invalid syntax\n"
     ]
    }
   ],
   "source": []
  },
  {
   "cell_type": "code",
   "execution_count": 43,
   "metadata": {},
   "outputs": [
    {
     "name": "stdout",
     "output_type": "stream",
     "text": [
      "x = 100  y = -45  z= way\n"
     ]
    }
   ],
   "source": [
    "x,y,z = 100, -45, \"way\"\n",
    "print('x =',x,' y =',y,' z=',z)"
   ]
  },
  {
   "cell_type": "code",
   "execution_count": 50,
   "metadata": {},
   "outputs": [
    {
     "name": "stdout",
     "output_type": "stream",
     "text": [
      "Please enter some text: \n",
      "Some Text\n",
      "Text entered: Some Text\n",
      "Type:  <type 'str'>\n"
     ]
    }
   ],
   "source": [
    "\n"
   ]
  },
  {
   "cell_type": "code",
   "execution_count": null,
   "metadata": {},
   "outputs": [],
   "source": []
  }
 ],
 "metadata": {
  "kernelspec": {
   "display_name": "Python 2",
   "language": "python",
   "name": "python2"
  },
  "language_info": {
   "codemirror_mode": {
    "name": "ipython",
    "version": 2
   },
   "file_extension": ".py",
   "mimetype": "text/x-python",
   "name": "python",
   "nbconvert_exporter": "python",
   "pygments_lexer": "ipython2",
   "version": "2.7.15"
  }
 },
 "nbformat": 4,
 "nbformat_minor": 2
}
