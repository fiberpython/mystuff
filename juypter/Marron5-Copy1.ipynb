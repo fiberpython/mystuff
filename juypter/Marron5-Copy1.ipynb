{
 "cells": [
  {
   "cell_type": "code",
   "execution_count": 3,
   "metadata": {},
   "outputs": [
    {
     "name": "stdout",
     "output_type": "stream",
     "text": [
      "watch yourself again\n"
     ]
    }
   ],
   "source": [
    "print \"watch yourself again\"\n"
   ]
  },
  {
   "cell_type": "code",
   "execution_count": 5,
   "metadata": {},
   "outputs": [
    {
     "name": "stdout",
     "output_type": "stream",
     "text": [
      "[2, 4, 6, 8, 10]\n",
      "[4, 8, 12, 16, 20]\n",
      "[128, 256, 384, 512, 640]\n"
     ]
    }
   ],
   "source": [
    "def double_list(alist):\n",
    "    for i in range(len(alist)):\n",
    "        alist[i] = 2 * alist[i]\n",
    "\n",
    "x = [1, 2, 3, 4, 5]\n",
    "double_list(x)\n",
    "print x  \n",
    "double_list(x)\n",
    "print x\n",
    "double_list(x)\n",
    "double_list(x)\n",
    "double_list(x)\n",
    "double_list(x)\n",
    "double_list(x)\n",
    "print x\n"
   ]
  },
  {
   "cell_type": "code",
   "execution_count": null,
   "metadata": {
    "collapsed": true
   },
   "outputs": [],
   "source": []
  }
 ],
 "metadata": {
  "kernelspec": {
   "display_name": "Python 2",
   "language": "python",
   "name": "python2"
  },
  "language_info": {
   "codemirror_mode": {
    "name": "ipython",
    "version": 2
   },
   "file_extension": ".py",
   "mimetype": "text/x-python",
   "name": "python",
   "nbconvert_exporter": "python",
   "pygments_lexer": "ipython2",
   "version": "2.7.13"
  }
 },
 "nbformat": 4,
 "nbformat_minor": 2
}
