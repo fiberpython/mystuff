{
 "cells": [
  {
   "cell_type": "code",
   "execution_count": 54,
   "metadata": {},
   "outputs": [],
   "source": [
    "def build_cells(width, height):\n",
    "    y = 1\n",
    "    x = 1\n",
    "    cells = []\n",
    "    print \"w\", width\n",
    "    print \"h\", height\n",
    "    for y in range(height):\n",
    "        for x in range(width):\n",
    "            x=x+1\n",
    "            y=y+1\n",
    "            cells.append((x,y))\n",
    "        return cells\n",
    "    \n"
   ]
  },
  {
   "cell_type": "code",
   "execution_count": 55,
   "metadata": {},
   "outputs": [
    {
     "name": "stdout",
     "output_type": "stream",
     "text": [
      "w 9\n",
      "h 9\n"
     ]
    }
   ],
   "source": [
    "k = build_cells(9,9)"
   ]
  },
  {
   "cell_type": "code",
   "execution_count": 56,
   "metadata": {},
   "outputs": [
    {
     "name": "stdout",
     "output_type": "stream",
     "text": [
      "[(1, 1), (2, 2), (3, 3), (4, 4), (5, 5), (6, 6), (7, 7), (8, 8), (9, 9)]\n"
     ]
    }
   ],
   "source": [
    "print k\n"
   ]
  }
 ],
 "metadata": {
  "kernelspec": {
   "display_name": "Python 2",
   "language": "python",
   "name": "python2"
  },
  "language_info": {
   "codemirror_mode": {
    "name": "ipython",
    "version": 2
   },
   "file_extension": ".py",
   "mimetype": "text/x-python",
   "name": "python",
   "nbconvert_exporter": "python",
   "pygments_lexer": "ipython2",
   "version": "2.7.13"
  }
 },
 "nbformat": 4,
 "nbformat_minor": 2
}
