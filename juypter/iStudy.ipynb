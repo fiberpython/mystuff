{
 "cells": [
  {
   "cell_type": "code",
   "execution_count": 2,
   "metadata": {},
   "outputs": [
    {
     "name": "stdout",
     "output_type": "stream",
     "text": [
      "**********\n"
     ]
    }
   ],
   "source": [
    "print '*'*10\n"
   ]
  },
  {
   "cell_type": "code",
   "execution_count": 11,
   "metadata": {},
   "outputs": [
    {
     "name": "stdout",
     "output_type": "stream",
     "text": [
      "******************************\n",
      "(1, 'Rocking Well')\n",
      "(2, 'New York')\n",
      "(3, 'Newark')\n",
      "(4, 'Clark')\n",
      "(5, 'fort apache')\n",
      "(6, 'Carnarsi')\n",
      "******************************\n",
      "7\n",
      "******************************\n",
      "(0, 'Rocking Well')\n",
      "0\n",
      "(1, 'New York')\n",
      "1\n",
      "(2, 'Newark')\n",
      "2\n",
      "(3, 'Clark')\n",
      "3\n",
      "(4, 'fort apache')\n",
      "4\n",
      "(5, 'Carnarsi')\n",
      "5\n",
      "******************************\n"
     ]
    }
   ],
   "source": [
    "print '*'*30\n",
    "\n",
    "cities = ['Rocking Well', 'New York', 'Newark','Clark','fort apache','Carnarsi']\n",
    "# The bad way\n",
    "i = 1\n",
    "for city in cities:\n",
    "    print(i, city)\n",
    "    i +=1\n",
    "    \n",
    "print '*'*30\n",
    "print (i)\n",
    "print '*'*30\n",
    "\n",
    "# So you see here that enumerate sets i to zero despide what is on the outside\n",
    "for i, city in enumerate(cities):\n",
    "    print(i,city)\n",
    "    print(i)\n",
    "print '*'*30\n"
   ]
  },
  {
   "cell_type": "code",
   "execution_count": null,
   "metadata": {},
   "outputs": [],
   "source": []
  }
 ],
 "metadata": {
  "kernelspec": {
   "display_name": "Python 2",
   "language": "python",
   "name": "python2"
  },
  "language_info": {
   "codemirror_mode": {
    "name": "ipython",
    "version": 2
   },
   "file_extension": ".py",
   "mimetype": "text/x-python",
   "name": "python",
   "nbconvert_exporter": "python",
   "pygments_lexer": "ipython2",
   "version": "2.7.15"
  }
 },
 "nbformat": 4,
 "nbformat_minor": 2
}
