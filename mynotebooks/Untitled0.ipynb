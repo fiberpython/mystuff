{
 "cells": [
  {
   "cell_type": "code",
   "execution_count": 2,
   "metadata": {},
   "outputs": [
    {
     "name": "stdout",
     "output_type": "stream",
     "text": [
      "/tmp is a directory\n"
     ]
    }
   ],
   "source": [
    "import os\n",
    "\n",
    "if os.path.isdir(\"/tmp\"):\n",
    "    print \"/tmp is a directory\"\n",
    "else:\n",
    "    print \"/tmp is not a directory\"\n"
   ]
  },
  {
   "cell_type": "code",
   "execution_count": 2,
   "metadata": {},
   "outputs": [
    {
     "name": "stdout",
     "output_type": "stream",
     "text": [
      ">>>>>>>>>>>>>>>>>>>>>>>>>>>>>>>>>>>>>>>>>>>>>>>>>>>>>>>>>>>>>>>>\n"
     ]
    }
   ],
   "source": [
    "print(8**2*\">\")\n"
   ]
  },
  {
   "cell_type": "code",
   "execution_count": 3,
   "metadata": {},
   "outputs": [
    {
     "name": "stdout",
     "output_type": "stream",
     "text": [
      "()\n",
      "('a',)\n",
      "('a', 'b')\n",
      "('a', 'b', 'c')\n",
      "----------------------------------------------------------------------\n",
      "Tuples without parencties\n",
      "----------------------------------------------------------------------\n",
      "(1,)\n",
      "(1, 2)\n",
      "(1, 2, 3)\n",
      "---------------------------------------------\n",
      " \n",
      "types\n",
      "<type 'tuple'>\n",
      "<type 'tuple'>\n"
     ]
    }
   ],
   "source": [
    "empty_tuple = ()\n",
    "test1 = (\"a\",)\n",
    "test2 = (\"a\", \"b\")\n",
    "test3 = (\"a\", \"b\", \"c\")\n",
    "\n",
    "t1 = 1,\n",
    "t2 = 1,2\n",
    "t3 = 1,2,3\n",
    "\n",
    "\n",
    "print(empty_tuple)\n",
    "print(test1)\n",
    "\n",
    "print(test2)\n",
    "\n",
    "print(test3)\n",
    "print(70*\"-\")\n",
    "print(\"Tuples without parencties\")\n",
    "print(70*\"-\")\n",
    "\n",
    "print(t1)\n",
    "print(t2)\n",
    "print(t3)\n",
    "\n",
    "print(45*\"-\")\n",
    "print \" \"\n",
    "print \"types\"\n",
    "print(type(t1))\n",
    "print(type(test1))\n"
   ]
  },
  {
   "cell_type": "code",
   "execution_count": 8,
   "metadata": {},
   "outputs": [
    {
     "name": "stdout",
     "output_type": "stream",
     "text": [
      "('List time took: ', 2.698716163635254)\n",
      "('tuple     took: ', 0.41672205924987793)\n",
      " \n",
      "----------------------------------------------------------------------\n",
      "['__add__', '__class__', '__contains__', '__delattr__', '__delitem__', '__delslice__', '__doc__', '__eq__', '__format__', '__ge__', '__getattribute__', '__getitem__', '__getslice__', '__gt__', '__hash__', '__iadd__', '__imul__', '__init__', '__iter__', '__le__', '__len__', '__lt__', '__mul__', '__ne__', '__new__', '__reduce__', '__reduce_ex__', '__repr__', '__reversed__', '__rmul__', '__setattr__', '__setitem__', '__setslice__', '__sizeof__', '__str__', '__subclasshook__', 'append', 'count', 'extend', 'index', 'insert', 'pop', 'remove', 'reverse', 'sort']\n",
      "----------------------------------------------------------------------\n",
      "      now this is a tuple\n",
      "----------------------------------------------------------------------\n",
      "['__add__', '__class__', '__contains__', '__delattr__', '__doc__', '__eq__', '__format__', '__ge__', '__getattribute__', '__getitem__', '__getnewargs__', '__getslice__', '__gt__', '__hash__', '__init__', '__iter__', '__le__', '__len__', '__lt__', '__mul__', '__ne__', '__new__', '__reduce__', '__reduce_ex__', '__repr__', '__rmul__', '__setattr__', '__sizeof__', '__str__', '__subclasshook__', 'count', 'index']\n",
      "-End--End--End--End--End--End--End--End--End--End--End--End--End--End--End--End--End--End--End--End-\n"
     ]
    }
   ],
   "source": [
    "# My Time slice\n",
    "# So this time slice took 2.5 secs for 10Million Records\n",
    "# but less than 1/2 of a second for the same number for tuples\n",
    "# It is because it takes more time to do the same with a list \n",
    "# because a list has more mods and takes up more space in memory\n",
    "\n",
    "\n",
    "import timeit\n",
    "list = [1,2,3,4,5]\n",
    "tuple = (1,2,3,4,5)\n",
    "\n",
    "list_test = timeit.timeit(stmt=\"[1,2,3,4,5]\", number=10000000)\n",
    "\n",
    "tuple_tes = timeit.timeit(stmt=\"(1,2,3,4,5)\", number=10000000)\n",
    "\n",
    "print(\"List time took: \", list_test)\n",
    "print(\"tuple     took: \", tuple_tes)\n",
    "\n",
    "print (\" \")\n",
    "print(70*\"-\")\n",
    "print(dir(list))\n",
    "print(70*\"-\")\n",
    "print(\"      now this is a tuple\")\n",
    "print(70*\"-\")\n",
    "\n",
    "print(dir(tuple))\n",
    "print(20*\"-End-\")\n"
   ]
  },
  {
   "cell_type": "code",
   "execution_count": 2,
   "metadata": {},
   "outputs": [
    {
     "name": "stdout",
     "output_type": "stream",
     "text": [
      "(1, 'Roselle')\n",
      "(2, 'Linden')\n",
      "(3, 'Amsterdam')\n",
      "(4, 'New York')\n",
      "(5, 'Bean Town')\n"
     ]
    }
   ],
   "source": [
    "\n",
    "cities = ['Roselle', 'Linden', 'Amsterdam', 'New York', 'Bean Town']\n",
    "# The bad way\n",
    "i = 0\n",
    "for city in cities:\n",
    "    print(i+1, city)\n",
    "    i +=1\n",
    "    "
   ]
  },
  {
   "cell_type": "code",
   "execution_count": 4,
   "metadata": {},
   "outputs": [
    {
     "name": "stdout",
     "output_type": "stream",
     "text": [
      "(1, 'Roselle')\n",
      "(2, 'Linden')\n",
      "(3, 'Amsterdam')\n",
      "(4, 'New York')\n",
      "(5, 'Bean Town')\n"
     ]
    }
   ],
   "source": [
    "for i , city in enumerate(cities):\n",
    "    print(i+1, city)\n",
    "    \n",
    "\n",
    "    "
   ]
  },
  {
   "cell_type": "code",
   "execution_count": 5,
   "metadata": {},
   "outputs": [
    {
     "name": "stdout",
     "output_type": "stream",
     "text": [
      "(0, 'Roselle')\n",
      "(1, 'Linden')\n",
      "(2, 'Amsterdam')\n",
      "(3, 'New York')\n",
      "(4, 'Bean Town')\n"
     ]
    }
   ],
   "source": [
    "for i , city in enumerate(cities):\n",
    "    print(i, city)"
   ]
  },
  {
   "cell_type": "code",
   "execution_count": 6,
   "metadata": {},
   "outputs": [
    {
     "name": "stdout",
     "output_type": "stream",
     "text": [
      "(1, 2)\n",
      "(2, 4)\n",
      "(3, 6)\n"
     ]
    }
   ],
   "source": [
    "x_list = [1,2,3]\n",
    "y_list = [2,4,6]\n",
    "#the Bad way dude\n",
    "\n",
    "for i in range(len(x_list)):\n",
    "    x = x_list[i]\n",
    "    y = y_list[i]\n",
    "    print(x,y)\n",
    "    "
   ]
  },
  {
   "cell_type": "code",
   "execution_count": 7,
   "metadata": {},
   "outputs": [
    {
     "name": "stdout",
     "output_type": "stream",
     "text": [
      "[1, 2, 3]\n"
     ]
    }
   ],
   "source": [
    "print(x_list)"
   ]
  },
  {
   "cell_type": "code",
   "execution_count": 9,
   "metadata": {},
   "outputs": [
    {
     "name": "stdout",
     "output_type": "stream",
     "text": [
      "(1, 2)\n",
      "(2, 4)\n",
      "(3, 6)\n"
     ]
    }
   ],
   "source": [
    "# I better way to push two list together\n",
    "for x,y in zip(x_list, y_list):\n",
    "    print(x,y)\n",
    "    \n",
    "    "
   ]
  },
  {
   "cell_type": "code",
   "execution_count": 13,
   "metadata": {},
   "outputs": [
    {
     "name": "stdout",
     "output_type": "stream",
     "text": [
      "('a', 'd')\n",
      "('b', 'e')\n",
      "('c', 'f')\n",
      "('i', 'g')\n"
     ]
    }
   ],
   "source": [
    "xl = ['a','b','c','i']\n",
    "yl = ['d', 'e', 'f','g']\n",
    "for x,y in zip(xl, yl):\n",
    "    print(x,y)"
   ]
  },
  {
   "cell_type": "code",
   "execution_count": 15,
   "metadata": {},
   "outputs": [
    {
     "name": "stdout",
     "output_type": "stream",
     "text": [
      "Before: x = 10, y =-10\n",
      "After: x = -10, y =10\n"
     ]
    }
   ],
   "source": [
    "# Swap their Values\n",
    "\n",
    "x = 10\n",
    "y = -10\n",
    "print('Before: x = %d, y =%d' % (x,y))\n",
    "# The bad way\n",
    "tmp = y\n",
    "y = x\n",
    "x = tmp\n",
    "print('After: x = %d, y =%d' % (x,y))\n",
    "\n"
   ]
  },
  {
   "cell_type": "code",
   "execution_count": 18,
   "metadata": {},
   "outputs": [
    {
     "name": "stdout",
     "output_type": "stream",
     "text": [
      "Before: x=10, y=-10\n",
      "After:  x=-10, y=10\n"
     ]
    }
   ],
   "source": [
    "# Swap their Values\n",
    "# using Tuple impacking\n",
    "\n",
    "x = 10\n",
    "y = -10\n",
    "print('Before: x=%d, y=%d' % (x,y))\n",
    "# The better way\n",
    "x,y = y,x\n",
    "\n",
    "print('After:  x=%d, y=%d' % (x,y))\n",
    "\n"
   ]
  },
  {
   "cell_type": "code",
   "execution_count": 19,
   "metadata": {},
   "outputs": [
    {
     "name": "stdout",
     "output_type": "stream",
     "text": [
      "Before: x=10, y=-10\n",
      "After:  x=-10, y=10\n"
     ]
    }
   ],
   "source": [
    "# yet Cleaner again for the Assignment\n",
    "\n",
    "# Swap their Values\n",
    "# using Tuple impacking\n",
    "\n",
    "x,y = 10,-10\n",
    "\n",
    "print('Before: x=%d, y=%d' % (x,y))\n",
    "# The better way\n",
    "x,y = y,x\n",
    "\n",
    "print('After:  x=%d, y=%d' % (x,y))\n",
    "\n"
   ]
  },
  {
   "cell_type": "code",
   "execution_count": 23,
   "metadata": {},
   "outputs": [
    {
     "name": "stdout",
     "output_type": "stream",
     "text": [
      "Dick is 28 years old\n"
     ]
    }
   ],
   "source": [
    "# Dict of ages\n",
    "\n",
    "ages = {\n",
    "        'mary'      :31,\n",
    "        'Johanthan' :28\n",
    "}\n",
    "\n",
    "#This is the bad way\n",
    "\n",
    "if 'Johanthan' in ages:\n",
    "    age = ages['Johanthan']\n",
    "else:\n",
    "    age = 'Unknown'\n",
    "\n",
    "print('Dick is %s years old' % age)\n",
    "\n"
   ]
  },
  {
   "cell_type": "code",
   "execution_count": 27,
   "metadata": {},
   "outputs": [
    {
     "name": "stdout",
     "output_type": "stream",
     "text": [
      "Dick is 45 years old\n"
     ]
    }
   ],
   "source": [
    "# Dict of ages\n",
    "\n",
    "ages = {\n",
    "        'mary'      :31,\n",
    "        'Johanthan' :28,\n",
    "        'Dick'      :45\n",
    "}\n",
    "\n",
    "# This is the better way\n",
    "\n",
    "age = ages.get('Dick', 'Unknown')\n",
    "\n",
    "print('Dick is %s years old' % age)\n",
    "\n"
   ]
  },
  {
   "cell_type": "code",
   "execution_count": 29,
   "metadata": {},
   "outputs": [
    {
     "name": "stdout",
     "output_type": "stream",
     "text": [
      "Found!\n"
     ]
    }
   ],
   "source": [
    "needle = 'c'\n",
    "haystack = ['a', 'b', 'c']\n",
    "\n",
    "#The worst way\n",
    "found = False\n",
    "for letter in haystack:\n",
    "    if needle == letter:\n",
    "        print('Found!')\n",
    "        found = True\n",
    "        break\n",
    "if not found:\n",
    "    print('Not found!')\n",
    "    "
   ]
  },
  {
   "cell_type": "code",
   "execution_count": 30,
   "metadata": {},
   "outputs": [
    {
     "name": "stdout",
     "output_type": "stream",
     "text": [
      "Not found!\n"
     ]
    }
   ],
   "source": [
    "needle = 'd'\n",
    "haystack = ['a', 'b', 'c']\n",
    "\n",
    "#The worst way\n",
    "found = False\n",
    "for letter in haystack:\n",
    "    if needle == letter:\n",
    "        print('Found!')\n",
    "        found = True\n",
    "        break\n",
    "if not found:\n",
    "    print('Not found!')\n",
    "    "
   ]
  },
  {
   "cell_type": "code",
   "execution_count": 32,
   "metadata": {},
   "outputs": [
    {
     "name": "stdout",
     "output_type": "stream",
     "text": [
      "Not found!\n"
     ]
    }
   ],
   "source": [
    "# so did you know that the for loop has an else condtion?\n",
    "# Nope\n",
    "\n",
    "needle = 'd'\n",
    "haystack = ['a', 'b', 'c']\n",
    "\n",
    "#The worst way\n",
    "for letter in haystack:\n",
    "    if needle == letter:\n",
    "        print('Found!')\n",
    "        break   \n",
    "else:        \n",
    "        print('Not found!')\n",
    "\n",
    "    \n",
    "\n",
    "\n"
   ]
  },
  {
   "cell_type": "code",
   "execution_count": 33,
   "metadata": {},
   "outputs": [
    {
     "name": "stdout",
     "output_type": "stream",
     "text": [
      "Found!\n"
     ]
    }
   ],
   "source": [
    "# so did you know that the for loop has an else condtion?\n",
    "# Nope\n",
    "\n",
    "needle = 'c'\n",
    "haystack = ['a', 'b', 'c']\n",
    "\n",
    "#The worst way\n",
    "for letter in haystack:\n",
    "    if needle == letter:\n",
    "        print('Found!')\n",
    "        break   \n",
    "else:     # if no break occurred during the loop, then run the print below   \n",
    "        print('Not found!')\n",
    "\n",
    "    \n",
    "\n",
    "\n"
   ]
  },
  {
   "cell_type": "code",
   "execution_count": 34,
   "metadata": {},
   "outputs": [
    {
     "data": {
      "text/plain": [
       "'test string\\n'"
      ]
     },
     "execution_count": 34,
     "metadata": {},
     "output_type": "execute_result"
    }
   ],
   "source": [
    "'test string\\n'"
   ]
  },
  {
   "cell_type": "code",
   "execution_count": 35,
   "metadata": {},
   "outputs": [
    {
     "data": {
      "text/plain": [
       "'test string'"
      ]
     },
     "execution_count": 35,
     "metadata": {},
     "output_type": "execute_result"
    }
   ],
   "source": [
    "'test string\\n'.rstrip()"
   ]
  },
  {
   "cell_type": "code",
   "execution_count": 37,
   "metadata": {},
   "outputs": [
    {
     "name": "stdout",
     "output_type": "stream",
     "text": [
      "Test String\n",
      "\n",
      "Test String\n",
      "Test String\n",
      "\n",
      "Test String\n",
      "\n",
      "Test String\n",
      "Test String\n",
      "Test String\n",
      "Test String\n",
      "\n",
      "Test String\n",
      "\n",
      "Test String\n",
      "\n",
      "Test String\n",
      "\n"
     ]
    }
   ],
   "source": [
    "k = 'Test String\\n'\n",
    "print(k)\n",
    "print(k.rstrip())\n",
    "print(k)\n",
    "print(k)\n",
    "print(k.rstrip())\n",
    "print(k.rstrip())\n",
    "print(k.rstrip())\n",
    "print(k)\n",
    "print(k)\n",
    "print(k)\n",
    "print(k)\n",
    "\n"
   ]
  },
  {
   "cell_type": "code",
   "execution_count": 38,
   "metadata": {},
   "outputs": [
    {
     "name": "stdout",
     "output_type": "stream",
     "text": [
      "Converting!\n",
      "1\n",
      "Done!\n"
     ]
    }
   ],
   "source": [
    "\n",
    "\n",
    "print('Converting!')\n",
    "print(int('1'))\n",
    "print('Done!')"
   ]
  },
  {
   "cell_type": "code",
   "execution_count": 39,
   "metadata": {},
   "outputs": [
    {
     "name": "stdout",
     "output_type": "stream",
     "text": [
      "Converting!\n"
     ]
    },
    {
     "ename": "ValueError",
     "evalue": "invalid literal for int() with base 10: 'x'",
     "output_type": "error",
     "traceback": [
      "\u001b[0;31m---------------------------------------------------------------------------\u001b[0m",
      "\u001b[0;31mValueError\u001b[0m                                Traceback (most recent call last)",
      "\u001b[0;32m<ipython-input-39-34754a46259f>\u001b[0m in \u001b[0;36m<module>\u001b[0;34m()\u001b[0m\n\u001b[1;32m      1\u001b[0m \u001b[0;32mprint\u001b[0m\u001b[0;34m(\u001b[0m\u001b[0;34m'Converting!'\u001b[0m\u001b[0;34m)\u001b[0m\u001b[0;34m\u001b[0m\u001b[0m\n\u001b[0;32m----> 2\u001b[0;31m \u001b[0;32mprint\u001b[0m\u001b[0;34m(\u001b[0m\u001b[0mint\u001b[0m\u001b[0;34m(\u001b[0m\u001b[0;34m'x'\u001b[0m\u001b[0;34m)\u001b[0m\u001b[0;34m)\u001b[0m\u001b[0;34m\u001b[0m\u001b[0m\n\u001b[0m\u001b[1;32m      3\u001b[0m \u001b[0;32mprint\u001b[0m\u001b[0;34m(\u001b[0m\u001b[0;34m'Done!'\u001b[0m\u001b[0;34m)\u001b[0m\u001b[0;34m\u001b[0m\u001b[0m\n\u001b[1;32m      4\u001b[0m \u001b[0;34m\u001b[0m\u001b[0m\n",
      "\u001b[0;31mValueError\u001b[0m: invalid literal for int() with base 10: 'x'"
     ]
    }
   ],
   "source": [
    "print('Converting!')\n",
    "print(int('x'))\n",
    "print('Done!')\n",
    "\n"
   ]
  },
  {
   "cell_type": "code",
   "execution_count": 41,
   "metadata": {},
   "outputs": [
    {
     "name": "stdout",
     "output_type": "stream",
     "text": [
      "Converting!\n",
      "Conversion Failed!\n",
      "Done!\n"
     ]
    }
   ],
   "source": [
    "print('Converting!')\n",
    "try:\n",
    "    print(int('x'))\n",
    "except:\n",
    "    print(\"Conversion Failed!\")\n",
    "print('Done!')"
   ]
  },
  {
   "cell_type": "code",
   "execution_count": 42,
   "metadata": {},
   "outputs": [
    {
     "name": "stdout",
     "output_type": "stream",
     "text": [
      "Converting!\n",
      "Conversion Failed!\n",
      "Done!\n"
     ]
    }
   ],
   "source": [
    "print('Converting!')\n",
    "try:\n",
    "    print(int('x'))\n",
    "except:\n",
    "    print('Conversion Failed!')\n",
    "else: # If not exception\n",
    "    print('Conversion successful!')\n",
    "print('Done!')\n",
    "\n",
    "\n"
   ]
  },
  {
   "cell_type": "code",
   "execution_count": 43,
   "metadata": {},
   "outputs": [
    {
     "name": "stdout",
     "output_type": "stream",
     "text": [
      "Converting!\n",
      "1\n",
      "Conversion successful!\n",
      "Done!\n"
     ]
    }
   ],
   "source": [
    "print('Converting!')\n",
    "try:\n",
    "    print(int('1'))\n",
    "except:\n",
    "    print('Conversion Failed!')\n",
    "else: # If not exception\n",
    "    print('Conversion successful!')\n",
    "print('Done!')\n"
   ]
  },
  {
   "cell_type": "code",
   "execution_count": 44,
   "metadata": {},
   "outputs": [
    {
     "name": "stdout",
     "output_type": "stream",
     "text": [
      "Converting!\n",
      "1\n",
      "Conversion successful!\n",
      "Done!\n"
     ]
    }
   ],
   "source": [
    "print('Converting!')\n",
    "try:\n",
    "    print(int('1'))\n",
    "except:\n",
    "    print('Conversion Failed!')\n",
    "else: # If not exception\n",
    "    print('Conversion successful!')\n",
    "finally:\n",
    "    print('Done!')\n"
   ]
  },
  {
   "cell_type": "code",
   "execution_count": 45,
   "metadata": {},
   "outputs": [
    {
     "name": "stdout",
     "output_type": "stream",
     "text": [
      "Converting!\n",
      "Conversion Failed!\n",
      "Done!\n"
     ]
    }
   ],
   "source": [
    "print('Converting!')\n",
    "try:\n",
    "    print(int('x'))\n",
    "except:\n",
    "    print('Conversion Failed!')\n",
    "else: # If not exception\n",
    "    print('Conversion successful!')\n",
    "finally:\n",
    "    print('Done!')\n"
   ]
  },
  {
   "cell_type": "code",
   "execution_count": 1,
   "metadata": {},
   "outputs": [
    {
     "name": "stdout",
     "output_type": "stream",
     "text": [
      "1\n",
      "2\n",
      "3\n",
      "4\n",
      "5\n",
      "6\n",
      "7\n",
      "8\n",
      "9\n",
      "10\n"
     ]
    }
   ],
   "source": [
    "for i in range(1,11):\n",
    "    print i\n",
    "    "
   ]
  },
  {
   "cell_type": "code",
   "execution_count": 5,
   "metadata": {},
   "outputs": [
    {
     "name": "stdout",
     "output_type": "stream",
     "text": [
      "20 is equale to 10\n"
     ]
    }
   ],
   "source": [
    "a,b = 20,10\n",
    "if a < b:\n",
    "    print \"{} is less thand {}\".format(a,b)\n",
    "elif a == 20:\n",
    "    print \"{} is equale to {}\".format(a, b)\n",
    "else: \n",
    "    print \"{} is greater than {}\".format(a, b)"
   ]
  },
  {
   "cell_type": "code",
   "execution_count": 6,
   "metadata": {},
   "outputs": [
    {
     "name": "stdout",
     "output_type": "stream",
     "text": [
      "A_Good_github-git-cheat-sheet.pdf\n",
      "AdLib.pdf\n",
      "Agile Web Development with Rails, 4th Edition, Rails 3.2 (The Pragmatic Programmers) .pdf\n",
      "Amazon Web Services in Action Chapter 1 SAMPLE.pdf\n",
      "Amazon Web Services in Action Chapter 13 SAMPLE.pdf\n",
      "angularjs_tutorial.pdf\n",
      "Apress_Pro_Apache_Tomcat6_Mar_2007.pdf\n",
      "ArcfortheENTERPRIZE.pdf\n",
      "Associate-Solution-Architect-Study-Guide.pdf\n",
      "Automation for DevOps White Paper.pdf\n",
      "automation test frameworks.pdf\n",
      "Automation through Chef Opscode.pdf\n",
      "AWS - WWPS Cloud Transformation Maturity Model.pdf\n",
      "AWS Certified Solutions Architect Official Study Guide: Associate Exam_index.pdf\n",
      "AWS Security Whitepaper.pdf\n",
      "AWS-Solution-Architect-Associate.pdf\n",
      "AWS_ac_ra_adserving_06.pdf\n",
      "AWS_ac_ra_batch_03.pdf\n",
      "AWS_ac_ra_disasterrecovery_07.pdf\n",
      "AWS_ac_ra_ecommerce_checkout_13.pdf\n",
      "AWS_ac_ra_ecommerce_marketing_15.pdf\n",
      "AWS_ac_ra_ecommerce_webfrontend_14.pdf\n",
      "AWS_ac_ra_filesync_08.pdf\n",
      "AWS_ac_ra_financialgrid_12.pdf\n",
      "AWS_ac_ra_ftha_04.pdf\n",
      "AWS_ac_ra_games_10.pdf\n",
      "AWS_ac_ra_largescale_05.pdf\n",
      "AWS_ac_ra_loganalysis_11.pdf\n",
      "AWS_ac_ra_media_02.pdf\n",
      "AWS_ac_ra_mediasharing_09.pdf\n",
      "AWS_ac_ra_timeseriesprocessing_16.pdf\n",
      "AWS_ac_ra_web_01.pdf\n",
      "AWS_Amazon_VPC_Connectivity_Options.pdf\n",
      "AWS_Auditing_Security_Checklist.pdf\n",
      "AWS_Certification_Guide_2015.pdf\n",
      "AWS_Cloud_Architectures.pdf\n",
      "AWS_Cloud_Best_Practices.pdf\n",
      "AWS_console_billing.pdf\n",
      "AWS_Development_Test_Environments.pdf\n",
      "AWS_My_Minorities_in_Tech_Event-Cloud_Workshop.pdf\n",
      "AWS_Operational_Checklists_hint_Security.pdf\n",
      "AWS_Overview.pdf\n",
      "aws_pricing_overview.pdf\n",
      "AWS_Security_Best_Practices.pdf\n",
      "AWS_Soho_Cloud_Computing_Overview.pdf\n",
      "AWS_Summit_-_New_York_2016_-_Confirmation___Online_Registration_by_Cvent.pdf\n",
      "AWS_Well-Architected_Framework.pdf\n",
      "Backup_Archive_and_Restore_Approaches_Using_AWS.pdf\n",
      "Beginners_guide_to_Docker.pdf\n",
      "beginning-wordpress-3-jun-2010.pdf\n",
      "BK_SANS_006899.pdf\n",
      "Blacks_Law_Dictionary_4th.pdf\n",
      "breakitdown.pdf\n",
      "businessmodelgeneration_preview.pdf\n",
      "CaseinPoint.pdf\n",
      "CDebook.pdf\n",
      "Cert_1_LinuxA.pdf\n",
      "Chapter1_AWS_sol_arch_asso_exam.pdf\n",
      "Chef Infrastructure Automation Cookbook.pdf\n",
      "chef-fundamentals-bonus-exercises.pdf\n",
      "chef-fundamentals.pdf\n",
      "Chris-Munn-AWS_Architecture_Blog.pdf\n",
      "Computer Science Programming Basics in Ruby.pdf\n",
      "CSC.pdf\n",
      "Customizing_Chef4m3.pdf\n",
      "dashboardmanual.pdf\n",
      "Database_Camp.pdf\n",
      "Deleuze-Spinoza-Practical-Philosophy.pdf\n",
      "devops-gsg.pdf\n",
      "DevOps_Handbook_Intro_Part1_Part2.pdf\n",
      "devopsonaws-deepdiveoncontinuousdeliveryandtheawsdevelopertools-160420010629.pdf\n",
      "Docker_New_Relic_Preview_Edition.pdf\n",
      "ec2-ug.pdf\n",
      "Effective DevOps.pdf\n",
      "Effective DevOps_FULL.pdf\n",
      "EmbraceDevops.pdf\n",
      "enterprise-devops-playbook.pdf\n",
      "erlang-book-part1.pdf\n",
      "facter1_7.pdf\n",
      "Fedora-21-System_Administrators_Guide-en-US.pdf\n",
      "FordamMedievaldigitalBanner.pdf\n",
      "HB_Picking the Right Spots for SDN_final.pdf\n",
      "hiera1.pdf\n",
      "howtoread.pdf\n",
      "html5_tutorial.pdf\n",
      "HUMBLE LITTLE RUBY BOOK.pdf\n",
      "Implementing Cloud Design Patterns for AWS.pdf\n",
      "Infrastructure_as_Code_ThoughtWorks_Preview_Edition.pdf\n",
      "Installing Neatline and Neatline Documentation.pdf\n",
      "InstallingTheClassVM.pdf\n",
      "IntroductiontoDjango.pdf\n",
      "itrev-devops-guide-5-2015.pdf\n",
      "itrev-devops-guide-5-2016.pdf\n",
      "JavaScript- The Definitive Guide, 6th Edition.pdf\n",
      "javascript_tutorial.pdf\n",
      "javascript_tutorialm.pdf\n",
      "Job_forNick.pdf\n",
      "KMS-Cryptographic-Details.pdf\n",
      "LabGuide.pdf\n",
      "Lean_Canvas.pdf\n",
      "Learn-Git-in-a-Month-of-Lunches.pdf\n",
      "Learning Website Development with Django.pdf\n",
      "Learning_IPython_for_Interactive_Computing_and_Data_Visualization_(2).pdf\n",
      "Learning_PHP__MySQL___JavaScript_With_jQuery__CSS___HTML5__4th_Edition.pdf\n",
      "learningpuppet.pdf\n",
      "LearnRubyTheHardWay.pdf\n",
      "Linux Administration Handbook 2nd Edition.pdf\n",
      "Linux_academy_Linux_into_cert.pdf\n",
      "LPIC-1.pdf\n",
      "LPIC2.pdf\n",
      "Metaprogramming Ruby 2.pdf\n",
      "Metaprogramming Ruby.pdf\n",
      "Microservices_Reference_Architecture.pdf\n",
      "module_cheat_sheet.pdf\n",
      "MongoCertificate.pdf\n",
      "MongoDB Operations Best Practices.pdf\n",
      "mongodb_and_python.pdf\n",
      "MongoDB_Architecture_Guide.pdf\n",
      "MongoDB_oreilly_2nd.pdf\n",
      "MongoDB_Security_Architecture_WP.pdf\n",
      "My_AWS_Class_Nov_1st_2016_StudentGuide.pdf\n",
      "My_n_django.pdf\n",
      "Network Troubleshooting Tools.pdf\n",
      "NeverH4.pdf\n",
      "NGINX_A Practical Guide_Preview Edition.pdf\n",
      "NginxWordpCodexinfo.pdf\n",
      "Nicolas Vautier | LinkedIn.pdf\n",
      "NYCsubway.pdf\n",
      "nycsubwaymap.pdf\n",
      "OReilly - Unix Power Tools.pdf\n",
      "Oreilly.50.Tips.and.Tricks.for.MongoDB.Developers.Apr.2011.pdf\n",
      "Paid_MyVerizon_fios_bill.pdf\n",
      "PaulTurner.pdf\n",
      "pe3_0_usersguide.pdf\n",
      "perl_tutorial.pdf\n",
      "php_tutorial.pdf\n",
      "Practical Django Projects.pdf\n",
      "Practical JIRA Administration.pdf\n",
      "Pragmatic Guide to Git.pdf\n",
      "Pre-Req-Lets-get-it-started.pdf\n",
      "Pro Apache, 3rd Edition.pdf\n",
      "Pro PHP Security 2005.pdf\n",
      "pro_python.pdf\n",
      "Programming Ruby 1.9 &amp; 2.0, 4th edition.pdf\n",
      "puppet_core_types_cheatsheet.pdf\n",
      "puppet_reference_2_7.pdf\n",
      "puppet_reference_3.pdf\n",
      "puppetdb1_3.pdf\n",
      "puppetmanual.pdf\n",
      "Python for Informatics.pdf\n",
      "Python for Unix and Linux System Administration.pdf\n",
      "python_like_hitch.pdf\n",
      "python_web_development_with_django.pdf\n",
      "Q5_1_M202.pdf\n",
      "Q5_2_m202.pdf\n",
      "Q6_1_m202.pdf\n",
      "Q6_2_M202.pdf\n",
      "Red_Hat_OpenStack-3-Getting_Started_Guide-en-US.pdf\n",
      "red_hat_satellite_5_and-6-puppet_guide-en-us_0.pdf\n",
      "ReferenceCards15-PDF.pdf\n",
      "Ruby Cookbook.pdf\n",
      "Ruby on Rails Tutorial, 2nd Edition.pdf\n",
      "runbook-scan.pdf\n",
      "s3-essentials-versioning_1450218118.pdf\n",
      "s3-lifecycles-lab_1449690973.pdf\n",
      "Sams Teach Yourself Node.js in 24 Hours.pdf\n",
      "scaling_mongodb.pdf\n",
      "selenium.pdf\n",
      "server-migration-ug.pdf\n",
      "serverguide.pdf\n",
      "sf_lr_hblr_map.pdf\n",
      "sublime-text-official-documentation (1).pdf\n",
      "sublime-text-unofficial-documentation.pdf\n",
      "T24E310-ZA_BN68-06997D-00ENG-0409.pdf\n",
      "TaxFormsFrom2016.pdf\n",
      "The Definitive Guide to Django- Web Development Done Right.pdf\n",
      "The Rails 3 Way, 2nd Edition.pdf\n",
      "the-innovator-dilemma_Yup.pdf\n",
      "TheArtOfMonitoring_sample.pdf\n",
      "TheDockerBook.pdf\n",
      "ThePragmaticProgrammersGuide_RUBY.pdf\n",
      "TheRails_4_way.pdf\n",
      "Tomcat_7_Linux_Ademy.pdf\n",
      "TOP_25_PYTHON_INTERVIEW_QUESTIONS_-_YouTube.pdf\n",
      "unix_in_a_browser_tab.pdf\n",
      "value_proposition_canvas.pdf\n",
      "vmware_Admin_Guide.pdf\n",
      "VPC.pdf\n",
      "WRT54GC-EU_V30_UG_NC-WEB.pdf\n"
     ]
    }
   ],
   "source": [
    "import os, glob\n",
    "\n",
    "os.chdir(\"/Users/pturner/Google Drive/PDFS\")\n",
    "\n",
    "for file in glob.glob(\"*.pdf\"):\n",
    "    print(file)\n",
    "    \n",
    "    "
   ]
  },
  {
   "cell_type": "code",
   "execution_count": 8,
   "metadata": {},
   "outputs": [
    {
     "name": "stdout",
     "output_type": "stream",
     "text": [
      "1\n",
      "2\n",
      "Fizz\n",
      "4\n",
      "Buzz\n",
      "Fizz\n",
      "7\n",
      "8\n",
      "Fizz\n",
      "Buzz\n",
      "11\n",
      "Fizz\n",
      "13\n",
      "14\n",
      "FizzBuzz\n",
      "16\n",
      "17\n",
      "Fizz\n",
      "19\n",
      "Buzz\n",
      "Fizz\n",
      "22\n",
      "23\n",
      "Fizz\n",
      "Buzz\n",
      "26\n",
      "Fizz\n",
      "28\n",
      "29\n",
      "FizzBuzz\n"
     ]
    }
   ],
   "source": [
    "#Fizz Buzz\n",
    "\n",
    "for num in xrange(1,31):\n",
    "    if num % 5 == 0 and num % 3 ==0:\n",
    "        print \"FizzBuzz\"\n",
    "    elif num % 3 == 0:\n",
    "        print \"Fizz\"\n",
    "    elif num % 5 == 0:\n",
    "        print \"Buzz\"\n",
    "    else:\n",
    "        print num\n"
   ]
  },
  {
   "cell_type": "code",
   "execution_count": 9,
   "metadata": {},
   "outputs": [
    {
     "name": "stdout",
     "output_type": "stream",
     "text": [
      "0\n",
      "1\n",
      "1\n",
      "2\n",
      "3\n",
      "5\n",
      "8\n",
      "13\n",
      "21\n",
      "34\n"
     ]
    }
   ],
   "source": [
    "# The Fibonacci Sequence\n",
    "\n",
    "a, b = 0, 1\n",
    "for i in xrange(0,10):\n",
    "    print a\n",
    "    a, b = b, a + b\n",
    "    \n",
    "    "
   ]
  },
  {
   "cell_type": "code",
   "execution_count": 18,
   "metadata": {},
   "outputs": [
    {
     "name": "stdout",
     "output_type": "stream",
     "text": [
      "-My list--My list--My list--My list--My list--My list-\n",
      "10\n",
      "20\n",
      "30\n",
      "40\n",
      "50\n",
      "-My list--My list--My list--My list--My list--My list-\n",
      "\n",
      "-My Tuples--My Tuples--My Tuples--My Tuples--My Tuples--My Tuples-\n",
      "1\n",
      "2\n",
      "3\n",
      "4\n",
      "5\n",
      "-EndTuples--EndTuples--EndTuples--EndTuples--EndTuples--EndTuples-\n",
      "\n",
      "-My Dict--My Dict--My Dict--My Dict--My Dict-\n",
      "My age is 2\n",
      "My name is Bronx\n",
      "My occupation is Caine's Dog\n",
      "-EndDict--EndDict--EndDict--EndDict--EndDict-\n",
      "\n",
      "-set--set--set--set--set--set-\n",
      "5\n",
      "8\n",
      "10\n",
      "17\n",
      "19\n",
      "20\n",
      "55\n",
      "25\n",
      "-EndSet--EndSet--EndSet--EndSet--EndSet--EndSet-\n"
     ]
    },
    {
     "data": {
      "text/plain": [
       "' A set contains an unordered collection of unique and immutable objects. The set data type is, as the name implies,a Python implementation of the sets as they are known from mathematics.'"
      ]
     },
     "execution_count": 18,
     "metadata": {},
     "output_type": "execute_result"
    }
   ],
   "source": [
    "#Lists\n",
    "print (6*\"-My list-\")\n",
    "my_list = [10,20,30,40,50]\n",
    "for i in my_list:\n",
    "    print i\n",
    "print (6*\"-My list-\")\n",
    "\n",
    "# Tuples\n",
    "print \"\"\n",
    "print (6*\"-My Tuples-\")\n",
    "my_tup = (1,2,3,4,5)\n",
    "for i in my_tup:\n",
    "    print i\n",
    "    \n",
    "print (6*\"-EndTuples-\")\n",
    "\n",
    "    \n",
    "    \n",
    "#Dict  Dictionary\n",
    "print \"\"\n",
    "\n",
    "print (5*\"-My Dict-\")\n",
    "\n",
    "my_dict = {'name': 'Bronx', 'age': '2', 'occupation': \"Caine's Dog\"}\n",
    "for key,val in my_dict.iteritems():\n",
    "    print \"My {} is {}\".format(key,val)\n",
    "print (5*\"-EndDict-\")\n",
    "\n",
    "\n",
    "# Set  \n",
    "# What exactily is a set\n",
    "print \"\"\n",
    "print (6*\"-set-\")\n",
    "my_set = {10,20,25,19,8,8,19,20,10,5,55,55,17,8,20}\n",
    "for i in my_set:\n",
    "    print i\n",
    "print (6*\"-EndSet-\")\n",
    "\n",
    "#  A set contains an unordered collection of \n",
    "#  unique and immutable objects. The set data type \n",
    "#  is, as the name implies, a Python implementation \n",
    "#  of the sets as they are known from mathematics.\n",
    "\n",
    "\"\"\" A set contains an unordered collection of unique and immutable objects. The set data type is, as the name implies,a Python implementation of the sets as they are known from mathematics.\"\"\""
   ]
  },
  {
   "cell_type": "code",
   "execution_count": 22,
   "metadata": {},
   "outputs": [
    {
     "name": "stdout",
     "output_type": "stream",
     "text": [
      "[1, 4, 9, 16, 25, 36, 49, 64, 81, 100]\n"
     ]
    }
   ],
   "source": [
    "\n",
    "#List Comprehension\n",
    "\n",
    "my_newlist = [1,2,3,4,5,6,7,8,9,10]\n",
    "\n",
    "# Give me each number in a list squared\n",
    "squares = [num*num for num in my_newlist]\n",
    "print squares\n"
   ]
  },
  {
   "cell_type": "code",
   "execution_count": 24,
   "metadata": {},
   "outputs": [
    {
     "name": "stdout",
     "output_type": "stream",
     "text": [
      "1: 0\n",
      "2: 1\n",
      "3: 1\n",
      "4: 2\n",
      "5: 3\n",
      "6: 5\n",
      "7: 8\n",
      "8: 13\n",
      "9: 21\n",
      "10: 34\n"
     ]
    }
   ],
   "source": [
    "\n",
    "\n",
    "#Know Generators\n",
    "\n",
    "def fib(num):\n",
    "    a,b = 0,1\n",
    "    for i in xrange(0,num):\n",
    "        yield \"{}: {}\".format(i+1,a)\n",
    "        a,b = b, a+b\n",
    "for item in fib(10):\n",
    "    print item\n",
    "    \n",
    "    \n",
    "    "
   ]
  },
  {
   "cell_type": "code",
   "execution_count": 26,
   "metadata": {},
   "outputs": [
    {
     "name": "stdout",
     "output_type": "stream",
     "text": [
      "My name is Corey\n"
     ]
    }
   ],
   "source": [
    "class Person(object):\n",
    "    def __init__(self, name):\n",
    "        self.name = name\n",
    "    def reveal_identity(self):\n",
    "        print \"My name is {}\".format(self.name)\n",
    "\n",
    "class SuperHero(Person):\n",
    "    def __init__(self, name, hero_name):\n",
    "        super(SuperHero, self).__init__(name)\n",
    "        self.hero_name = hero_name\n",
    "    def reveal_identiy(self):\n",
    "        super(SuperHero, self).reveal_identity()\n",
    "        print \"... And I am ()\".format(self.hero_name)\n",
    "        \n",
    "        \n",
    "corey = Person('Corey')\n",
    "corey.reveal_identity()\n"
   ]
  },
  {
   "cell_type": "code",
   "execution_count": 36,
   "metadata": {},
   "outputs": [
    {
     "name": "stdout",
     "output_type": "stream",
     "text": [
      "My name is Wade Wilson\n",
      "... And I am Deadpool\n"
     ]
    }
   ],
   "source": [
    "class Person(object):\n",
    "    def __init__(self, name):   # this is the parameter list\n",
    "        self.name = name        # this takes what was passed in and makes it local\n",
    "    def reveal_identity(self):  # this is just so that you can print it out with dot noteation\n",
    "        print \"My name is {}\".format(self.name)\n",
    "\n",
    "class SuperHero(Person):\n",
    "    def __init__(self, name, hero_name):   # see here are two things that are pushed in\n",
    "        super(SuperHero, self).__init__(name)  # just don't understand this, what kind of class is this?\n",
    "        self.hero_name = hero_name         # this is taking one of the parm and making it local\n",
    "    def reveal_identity(self):\n",
    "        super(SuperHero, self).reveal_identity()\n",
    "        print \"... And I am {}\".format(self.hero_name)\n",
    "        \n",
    "        \n",
    "wade = SuperHero('Wade Wilson', 'Deadpool')\n",
    "\n",
    "wade.reveal_identity()\n"
   ]
  },
  {
   "cell_type": "code",
   "execution_count": null,
   "metadata": {
    "collapsed": true
   },
   "outputs": [],
   "source": []
  }
 ],
 "metadata": {
  "kernelspec": {
   "display_name": "Python 2",
   "language": "python",
   "name": "python2"
  },
  "language_info": {
   "codemirror_mode": {
    "name": "ipython",
    "version": 2
   },
   "file_extension": ".py",
   "mimetype": "text/x-python",
   "name": "python",
   "nbconvert_exporter": "python",
   "pygments_lexer": "ipython2",
   "version": "2.7.13"
  }
 },
 "nbformat": 4,
 "nbformat_minor": 1
}
