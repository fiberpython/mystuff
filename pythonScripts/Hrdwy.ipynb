{
 "cells": [
  {
   "cell_type": "code",
   "execution_count": 2,
   "metadata": {},
   "outputs": [],
   "source": [
    "print \"Hello World!\""
   ]
  },
  {
   "cell_type": "code",
   "execution_count": 3,
   "metadata": {},
   "outputs": [
    {
     "name": "stdout",
     "output_type": "stream",
     "text": [
      "I could have code like this.\n",
      "This will run.\n"
     ]
    }
   ],
   "source": [
    "# A comment, this is so you can read your program later.\n",
    " # Anything after the # is ignored by python.\n",
    "\n",
    "print \"I could have code like this.\" # and the comment after is ignored 5\n",
    " # You can also use a comment to \"disable\" or comment out a piece of code:\n",
    " # print \"This won't run.\"\n",
    "print \"This will run.\""
   ]
  },
  {
   "cell_type": "code",
   "execution_count": 13,
   "metadata": {},
   "outputs": [
    {
     "name": "stdout",
     "output_type": "stream",
     "text": [
      "I will now count my chickens\n",
      "Hens 30.0\n",
      "Roosters 97\n",
      "Now I will count the eggs:\n",
      "7\n",
      "is it true that 3 + 2 < 5 - 7\n",
      "False\n",
      "What is 3 + 2 5\n",
      "What is 5 - 7? -2\n",
      "Oh, that's why it's False.\n",
      "How about some more.\n",
      "Is it greater? True\n",
      "Is it greater or equal? True\n",
      "Is it less or equal? False\n"
     ]
    }
   ],
   "source": [
    "print \"I will now count my chickens\"\n",
    "# by just adding a deciamal point  the value is displayed as a float\n",
    "print \"Hens\", 25.0 + 30.0 / 6.0\n",
    "print \"Roosters\", 100 - 25 * 3 % 4\n",
    "\n",
    "print \"Now I will count the eggs:\"\n",
    "\n",
    "print 3 + 2 + 1 - 5 + 4 % 2 - 1 / 4 + 6\n",
    "\n",
    "print \"is it true that 3 + 2 < 5 - 7\"\n",
    "\n",
    "print 3 + 2 < 5 - 7\n",
    "\n",
    "print \"What is 3 + 2\", 3 + 2\n",
    "\n",
    "print \"What is 5 - 7?\", 5 - 7\n",
    "\n",
    "print \"Oh, that's why it's False.\"\n",
    "\n",
    "print \"How about some more.\"\n",
    "# Booleans here baby!!\n",
    "\n",
    "print \"Is it greater?\", 5 > -2\n",
    "print \"Is it greater or equal?\", 5 >= -2\n",
    "print \"Is it less or equal?\", 5 <= -2"
   ]
  },
  {
   "cell_type": "code",
   "execution_count": 17,
   "metadata": {},
   "outputs": [
    {
     "name": "stdout",
     "output_type": "stream",
     "text": [
      "There are  100 cars available.\n",
      "There are only 30 drivers available.\n",
      "There will be 70 Empty cars today.\n",
      "We can transport 120.0 people today\n",
      "We have 90 to carpool today.\n",
      "We need to put about 3 in each car.\n"
     ]
    }
   ],
   "source": [
    "cars = 100\n",
    "space_in_a_car = 4.0\n",
    "drivers = 30\n",
    "passengers = 90\n",
    "cars_not_driven = cars - drivers\n",
    "cars_driven = drivers\n",
    "carpool_capacity = cars_driven * space_in_a_car\n",
    "average_passengers_per_car = passengers / cars_driven\n",
    "\n",
    "print \"There are \", cars, \"cars available.\"\n",
    "print \"There are only\", drivers, \"drivers available.\"\n",
    "print \"There will be\", cars_not_driven, \"Empty cars today.\"\n",
    "print \"We can transport\",carpool_capacity, \"people today\"\n",
    "print \"We have\", passengers, \"to carpool today.\"\n",
    "print \"We need to put about\", average_passengers_per_car, \"in each car.\""
   ]
  },
  {
   "cell_type": "code",
   "execution_count": 18,
   "metadata": {},
   "outputs": [
    {
     "name": "stdout",
     "output_type": "stream",
     "text": [
      "Hey YOU there.\n"
     ]
    }
   ],
   "source": [
    "print \"Hey %s there.\" % \"YOU\""
   ]
  },
  {
   "cell_type": "code",
   "execution_count": null,
   "metadata": {},
   "outputs": [],
   "source": []
  }
 ],
 "metadata": {
  "kernelspec": {
   "display_name": "Python 2",
   "language": "python",
   "name": "python2"
  },
  "language_info": {
   "codemirror_mode": {
    "name": "ipython",
    "version": 2
   },
   "file_extension": ".py",
   "mimetype": "text/x-python",
   "name": "python",
   "nbconvert_exporter": "python",
   "pygments_lexer": "ipython2",
   "version": "2.7.15"
  }
 },
 "nbformat": 4,
 "nbformat_minor": 2
}
